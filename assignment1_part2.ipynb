{
 "cells": [
  {
   "cell_type": "code",
   "execution_count": 3,
   "id": "f0496928-4fcd-4021-b129-ff94bed8f4f5",
   "metadata": {},
   "outputs": [
    {
     "name": "stdout",
     "output_type": "stream",
     "text": [
      "Harry Potter and the Goblet of Fire, written by J. K. Rowling\n",
      "Ivanhoe: A Romance, written by Walter Scott\n"
     ]
    }
   ],
   "source": [
    "class Book:\n",
    "    author = \"\"\n",
    "    title = \"\"\n",
    "\n",
    "    def __init__(self, author, title):\n",
    "        self.author = author\n",
    "        self.title = title\n",
    "\n",
    "    def display(self):\n",
    "        print(f\"{self.title}, written by {self.author}\")\n",
    "\n",
    "book1 = Book(\"J. K. Rowling\", \"Harry Potter and the Goblet of Fire\")\n",
    "book2 = Book(\"Walter Scott\", \"Ivanhoe: A Romance\")\n",
    "\n",
    "book1.display()\n",
    "book2.display()\n"
   ]
  },
  {
   "cell_type": "code",
   "execution_count": null,
   "id": "59982c82-515b-42b9-92fd-1ed5752d54f3",
   "metadata": {},
   "outputs": [],
   "source": []
  }
 ],
 "metadata": {
  "kernelspec": {
   "display_name": "Python [conda env:base] *",
   "language": "python",
   "name": "conda-base-py"
  },
  "language_info": {
   "codemirror_mode": {
    "name": "ipython",
    "version": 3
   },
   "file_extension": ".py",
   "mimetype": "text/x-python",
   "name": "python",
   "nbconvert_exporter": "python",
   "pygments_lexer": "ipython3",
   "version": "3.12.7"
  }
 },
 "nbformat": 4,
 "nbformat_minor": 5
}
